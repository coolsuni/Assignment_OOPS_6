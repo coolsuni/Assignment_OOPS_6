{
 "cells": [
  {
   "cell_type": "code",
   "execution_count": 1,
   "id": "d47a1d0b-941e-4dfb-af98-df10c650b7e4",
   "metadata": {},
   "outputs": [],
   "source": [
    "#1) bank account creation through class\n",
    "\n"
   ]
  },
  {
   "cell_type": "code",
   "execution_count": 1,
   "id": "07f45f03-a4a3-40c7-b4d0-39724c68f754",
   "metadata": {},
   "outputs": [],
   "source": [
    "import logging as log"
   ]
  },
  {
   "cell_type": "code",
   "execution_count": 21,
   "id": "dde4eb6e-2afe-4c4b-a0c4-80e7d576fd7a",
   "metadata": {},
   "outputs": [],
   "source": [
    "class bankaccount:\n",
    "    \n",
    "    def openaccount(self,account_no,name,balance):\n",
    "        print(\"open an account by taking name,account_no and balance\")\n",
    "        return name\n",
    "    \n",
    "    def deposit(self,amount):\n",
    "        print(\"i am trying to deposit\",amount,\" in my account\")\n",
    "        return amount\n",
    "    \n",
    "    def withdraw(self,amt_with):\n",
    "        print(\"withdraw\",amt_with,\"amount\")\n",
    "        return (amt_with)\n",
    "      \n",
    "    "
   ]
  },
  {
   "cell_type": "code",
   "execution_count": 22,
   "id": "ed598310-4628-40c6-8da6-6b3b984b3a87",
   "metadata": {},
   "outputs": [],
   "source": [
    "sunita=bankaccount()"
   ]
  },
  {
   "cell_type": "code",
   "execution_count": 23,
   "id": "970e6121-7343-4e95-bace-75c7d8e82e9c",
   "metadata": {},
   "outputs": [
    {
     "name": "stdout",
     "output_type": "stream",
     "text": [
      "open an account by taking name,account_no and balance\n"
     ]
    },
    {
     "data": {
      "text/plain": [
       "<__main__.bankaccount at 0x7f580ce0b730>"
      ]
     },
     "execution_count": 23,
     "metadata": {},
     "output_type": "execute_result"
    }
   ],
   "source": [
    "sunita.openaccount(123456789,sunita,1000)"
   ]
  },
  {
   "cell_type": "code",
   "execution_count": 24,
   "id": "b86b4ed9-7cb3-449e-b75b-7b2713690a8f",
   "metadata": {},
   "outputs": [
    {
     "name": "stdout",
     "output_type": "stream",
     "text": [
      "i am trying to deposit 1000  in my account\n"
     ]
    },
    {
     "data": {
      "text/plain": [
       "1000"
      ]
     },
     "execution_count": 24,
     "metadata": {},
     "output_type": "execute_result"
    }
   ],
   "source": [
    "sunita.deposit(1000)"
   ]
  },
  {
   "cell_type": "code",
   "execution_count": 25,
   "id": "574bb712-2694-4057-8528-7fff3525a6fd",
   "metadata": {},
   "outputs": [
    {
     "name": "stdout",
     "output_type": "stream",
     "text": [
      "withdraw 500 amount\n"
     ]
    },
    {
     "data": {
      "text/plain": [
       "500"
      ]
     },
     "execution_count": 25,
     "metadata": {},
     "output_type": "execute_result"
    }
   ],
   "source": [
    "sunita.withdraw(500)"
   ]
  },
  {
   "cell_type": "code",
   "execution_count": 15,
   "id": "5ca917bd-e2dc-4c58-9ec3-51a7159dbfe6",
   "metadata": {},
   "outputs": [],
   "source": [
    "#2) employee management class creation and calculate yearly bonus and display employee details\n",
    "\n"
   ]
  },
  {
   "cell_type": "code",
   "execution_count": 21,
   "id": "87876098-08bd-4da0-8d58-e56251b3909e",
   "metadata": {},
   "outputs": [],
   "source": [
    "import logging as log\n"
   ]
  },
  {
   "cell_type": "code",
   "execution_count": 22,
   "id": "91c2c1a6-7a61-44cd-b8c8-10ceb7128fbf",
   "metadata": {},
   "outputs": [],
   "source": [
    "class employee:\n",
    "    \n",
    "    def __init__(self,ID, name,salary):\n",
    "        self.name=name\n",
    "        self.id=ID\n",
    "        self.salary=salary\n",
    "        \n",
    "    def bonus(self,yearly_extra_time,*args):\n",
    "        if yearly_extra_time>100:\n",
    "            bonus=30000\n",
    "            self.salary=self.salary+bonus\n",
    "        print(\" the employee has got a bonus\")\n",
    "        \n",
    "    def print_employee_details(self):\n",
    "        print(\"\\nname\",self.name)\n",
    "        print(\"\\nID\",self.id)\n",
    "        print(\"\\nsalary\",self.salary)\n",
    "            \n",
    "    \n",
    "    \n",
    "            \n",
    "        \n",
    "        \n",
    "    "
   ]
  },
  {
   "cell_type": "code",
   "execution_count": 23,
   "id": "6bae5178-284f-4663-8029-216e417ce9df",
   "metadata": {},
   "outputs": [],
   "source": [
    "sunita=employee(12345, sunita, 40000)"
   ]
  },
  {
   "cell_type": "code",
   "execution_count": 24,
   "id": "29f36dff-ced1-4bb6-bf4e-38009ae0f294",
   "metadata": {},
   "outputs": [
    {
     "name": "stdout",
     "output_type": "stream",
     "text": [
      " the employee has got a bonus\n"
     ]
    }
   ],
   "source": [
    "sunita.bonus(120)"
   ]
  },
  {
   "cell_type": "code",
   "execution_count": 25,
   "id": "c59dbe07-a35a-4ee3-97a3-e1649b0ba8e6",
   "metadata": {},
   "outputs": [
    {
     "name": "stdout",
     "output_type": "stream",
     "text": [
      "\n",
      "name <__main__.bankaccount object at 0x7fb6082ca710>\n",
      "\n",
      "ID 12345\n",
      "\n",
      "salary 70000\n"
     ]
    }
   ],
   "source": [
    "sunita.print_employee_details()"
   ]
  },
  {
   "cell_type": "code",
   "execution_count": 26,
   "id": "fa5fc93a-37d1-4ff8-9c83-57422e9c7ea1",
   "metadata": {},
   "outputs": [],
   "source": [
    "#3) vehicle rental system using class\n",
    "\n"
   ]
  },
  {
   "cell_type": "code",
   "execution_count": 2,
   "id": "23250ba1-4a24-4639-9e40-e36feedd8544",
   "metadata": {},
   "outputs": [],
   "source": [
    "import logging as log"
   ]
  },
  {
   "cell_type": "code",
   "execution_count": 3,
   "id": "52daec2e-e785-4cfd-8000-c8eea54a8dc9",
   "metadata": {},
   "outputs": [],
   "source": [
    "from enum import Enum"
   ]
  },
  {
   "cell_type": "code",
   "execution_count": 4,
   "id": "2b1f24f9-6151-4582-9db1-3c6257cb9ae3",
   "metadata": {},
   "outputs": [],
   "source": [
    "class car_type(Enum):\n",
    "        swift=1\n",
    "        toyota=2\n",
    "        porshe=3\n",
    "        thar=4\n",
    "           \n",
    "    \n",
    "class fuel(Enum):\n",
    "    diesel=1\n",
    "    petrol=2\n",
    "    \n",
    "          \n"
   ]
  },
  {
   "cell_type": "code",
   "execution_count": 67,
   "id": "95d05b66-c779-402e-99b4-1467e8f68787",
   "metadata": {},
   "outputs": [],
   "source": [
    "class car_rental:\n",
    "    \n",
    "    def __init__(self,car_type,fuel):\n",
    "        self.car_type=car_type\n",
    "        self.fuel=fuel\n",
    "        \n",
    "    def car_rent(self):   \n",
    "        print(\"i want to rent this car\")\n",
    "    \n",
    "    def car_return(self):\n",
    "        print(\"i want to return this car\")\n",
    "    "
   ]
  },
  {
   "cell_type": "code",
   "execution_count": 68,
   "id": "5befcef9-0ca1-44b3-9b01-13638a92c463",
   "metadata": {},
   "outputs": [],
   "source": [
    "sunita=car_rental(car_type,fuel)"
   ]
  },
  {
   "cell_type": "code",
   "execution_count": 69,
   "id": "e1e316ed-452f-40d0-9667-18e22fb7eef5",
   "metadata": {},
   "outputs": [
    {
     "data": {
      "text/plain": [
       "<car_type.toyota: 2>"
      ]
     },
     "execution_count": 69,
     "metadata": {},
     "output_type": "execute_result"
    }
   ],
   "source": [
    "sunita.car_type(2)"
   ]
  },
  {
   "cell_type": "code",
   "execution_count": 70,
   "id": "418ef477-baac-49bc-b871-eaa3154b5af9",
   "metadata": {},
   "outputs": [
    {
     "data": {
      "text/plain": [
       "<fuel.diesel: 1>"
      ]
     },
     "execution_count": 70,
     "metadata": {},
     "output_type": "execute_result"
    }
   ],
   "source": [
    "sunita.fuel(1)"
   ]
  },
  {
   "cell_type": "code",
   "execution_count": 71,
   "id": "fb9a4e17-6670-4ecd-95ae-100859d90b56",
   "metadata": {},
   "outputs": [
    {
     "name": "stdout",
     "output_type": "stream",
     "text": [
      "i want to rent this car\n"
     ]
    }
   ],
   "source": [
    "sunita.car_rent()"
   ]
  },
  {
   "cell_type": "code",
   "execution_count": 72,
   "id": "f60a294b-fbb9-40f0-b4ba-6a3b5b2f59d2",
   "metadata": {},
   "outputs": [
    {
     "name": "stdout",
     "output_type": "stream",
     "text": [
      "i want to return this car\n"
     ]
    }
   ],
   "source": [
    "sunita.car_return()"
   ]
  },
  {
   "cell_type": "code",
   "execution_count": 73,
   "id": "91f84482-05a0-4a08-8b3e-8be4904fffc2",
   "metadata": {},
   "outputs": [],
   "source": [
    "#4) to create a library catalog function\n",
    "\n"
   ]
  },
  {
   "cell_type": "code",
   "execution_count": 141,
   "id": "7d62fb17-edec-4828-91bc-3837d23b93ed",
   "metadata": {},
   "outputs": [],
   "source": [
    "import logging as log"
   ]
  },
  {
   "cell_type": "code",
   "execution_count": 176,
   "id": "c3d68ef8-84df-4bb2-a1ce-548b841dbc06",
   "metadata": {},
   "outputs": [],
   "source": [
    "class library:\n",
    "\n",
    "    def __init__(self,books= None):\n",
    "        if books is None:\n",
    "            self.books=[] \n",
    "        else:   \n",
    "            self.books=books\n",
    "      \n",
    "            \n",
    "    def add_book(self,book):\n",
    "        self.list=self.books.append(book)\n",
    "        \n",
    "                \n",
    "    def get_library(self):\n",
    "        return self.books     \n",
    "    \n",
    "    def display(self): \n",
    "        print(\"this is my whole library\",self.category,self.title)\n",
    "    \n",
    "        \n",
    "class catalog:\n",
    "    \n",
    "    def __init__(self,category, title):\n",
    "        self.category = category\n",
    "        self.title = title\n",
    "               \n",
    "          \n",
    "    "
   ]
  },
  {
   "cell_type": "code",
   "execution_count": 177,
   "id": "95b2ce12-b435-4470-95f6-9af6945d2234",
   "metadata": {},
   "outputs": [],
   "source": [
    "sunita=library()"
   ]
  },
  {
   "cell_type": "code",
   "execution_count": 178,
   "id": "bf121db0-6516-4b15-bf91-4120c0562dc7",
   "metadata": {},
   "outputs": [],
   "source": [
    "book='introduction to polity','shankar ias','sriram ias'"
   ]
  },
  {
   "cell_type": "code",
   "execution_count": 179,
   "id": "58a95d10-a366-4f8f-b48f-6361ab6b7659",
   "metadata": {},
   "outputs": [],
   "source": [
    "sunita.add_book(book)"
   ]
  },
  {
   "cell_type": "code",
   "execution_count": 180,
   "id": "ad46fd00-71f2-4afb-8b95-42d091dab270",
   "metadata": {},
   "outputs": [],
   "source": [
    "sunita.category= '\\nbiology\\n'   '\\nmaths\\n'   '\\nselfhelp\\n'   '\\ngeography\\n'"
   ]
  },
  {
   "cell_type": "code",
   "execution_count": 181,
   "id": "b8bf4ec0-134a-4c2e-b36d-5ac24af290f0",
   "metadata": {},
   "outputs": [],
   "source": [
    "sunita.title='\\nintroduction to human biology\\n'   '\\nintermediate maths\\n'   '\\nthe alchemist\\n'   '\\nGC Leong\\n' "
   ]
  },
  {
   "cell_type": "code",
   "execution_count": 182,
   "id": "52022d59-0735-4259-ad7c-51907d3a47a6",
   "metadata": {},
   "outputs": [
    {
     "name": "stdout",
     "output_type": "stream",
     "text": [
      "this is my whole library \n",
      "biology\n",
      "\n",
      "maths\n",
      "\n",
      "selfhelp\n",
      "\n",
      "geography\n",
      " \n",
      "introduction to human biology\n",
      "\n",
      "intermediate maths\n",
      "\n",
      "the alchemist\n",
      "\n",
      "GC Leong\n",
      "\n"
     ]
    }
   ],
   "source": [
    "sunita.display()"
   ]
  },
  {
   "cell_type": "code",
   "execution_count": 183,
   "id": "6abf8b7e-3396-432d-ad66-f2568438f41b",
   "metadata": {},
   "outputs": [],
   "source": [
    "#5) to create a product inventory class\n",
    "\n"
   ]
  },
  {
   "cell_type": "code",
   "execution_count": 189,
   "id": "6a6e441e-4e3e-406e-8129-37075a99ba82",
   "metadata": {},
   "outputs": [],
   "source": [
    "import logging as log"
   ]
  },
  {
   "cell_type": "code",
   "execution_count": 204,
   "id": "9afe7376-2eb6-4033-a885-58db4c0fe081",
   "metadata": {},
   "outputs": [],
   "source": [
    "class Inventory:\n",
    "    def __init__(self):\n",
    "        self.inventory = {}\n",
    "        \n",
    "    def add_item(self, item_name, price):\n",
    "        self.inventory[item_name]= {\"item_name\": item_name,\"price\": price}\n",
    "\n",
    "    def update_item(self, item_name, price):\n",
    "        if item_name in self.inventory:\n",
    "            self.inventory[item_name][\"price\"] = price\n",
    "        else:\n",
    "            print(\"Item not found in inventory.\")\n",
    "\n",
    "    def display_item(self, item_name):\n",
    "        if item_name in self.inventory:\n",
    "            item = self.inventory[item_name]\n",
    "            return f\"Product Name {item['item_name']},Price: {item['price']}\"\n",
    "        else:\n",
    "            return \"Item not found in inventory.\""
   ]
  },
  {
   "cell_type": "code",
   "execution_count": 205,
   "id": "a13e339a-5734-41e0-beb0-aac8d9836a68",
   "metadata": {},
   "outputs": [],
   "source": [
    "sunita= Inventory()"
   ]
  },
  {
   "cell_type": "code",
   "execution_count": 206,
   "id": "14626f0a-5f73-4b77-8b41-4a5da57a8810",
   "metadata": {},
   "outputs": [],
   "source": [
    "sunita.add_item(\"biscuit\", 50)"
   ]
  },
  {
   "cell_type": "code",
   "execution_count": 206,
   "id": "ec3df41d-ec8e-4b52-8682-b280544a013b",
   "metadata": {},
   "outputs": [],
   "source": [
    "sunita.add_item(\"face cream\", 450)"
   ]
  },
  {
   "cell_type": "code",
   "execution_count": 206,
   "id": "b55a6c99-14f8-4f3f-878f-aa5737d94fc2",
   "metadata": {},
   "outputs": [],
   "source": [
    "sunita.add_item(\"soap\", 500.00)"
   ]
  },
  {
   "cell_type": "code",
   "execution_count": 206,
   "id": "62e0aed2-555c-4f8f-a941-ce8ca98f0549",
   "metadata": {},
   "outputs": [],
   "source": [
    "sunita.add_item(\"snacks\", 550)"
   ]
  },
  {
   "cell_type": "code",
   "execution_count": 207,
   "id": "e5d738db-8e33-4090-8aca-7cbac9c71b37",
   "metadata": {},
   "outputs": [],
   "source": [
    "print(\"Item Details:\")"
   ]
  },
  {
   "cell_type": "code",
   "execution_count": 207,
   "id": "997855c5-e4c7-4d20-889c-6451889f1b89",
   "metadata": {},
   "outputs": [
    {
     "name": "stdout",
     "output_type": "stream",
     "text": [
      "Item Details:\n",
      "Product Name biscuit,Price: 50\n",
      "Product Name face cream,Price: 450\n",
      "Product Name soap,Price: 500.0\n",
      "Product Name snacks,Price: 550\n"
     ]
    }
   ],
   "source": [
    "print(sunita.display_item(\"biscuit\"))\n",
    "print(sunita.display_item(\"face cream\"))\n",
    "print(sunita.display_item(\"soap\"))\n",
    "print(sunita.display_item(\"snacks\"))"
   ]
  },
  {
   "cell_type": "code",
   "execution_count": 208,
   "id": "9801f6e4-d602-4633-9f1f-26925b21ad78",
   "metadata": {},
   "outputs": [],
   "source": [
    "print(\"\\nUpdate the price of item code - face cream:\")"
   ]
  },
  {
   "cell_type": "code",
   "execution_count": 208,
   "id": "0e473f42-8548-4926-9341-cd8d6946c4c7",
   "metadata": {},
   "outputs": [],
   "source": [
    "sunita.update_item(\"face cream\", 550.00)"
   ]
  },
  {
   "cell_type": "code",
   "execution_count": 208,
   "id": "f946f3ab-07da-4460-8bfc-6927db4dd41c",
   "metadata": {},
   "outputs": [
    {
     "name": "stdout",
     "output_type": "stream",
     "text": [
      "\n",
      "Update the price of item code - face cream:\n",
      "Product Name face cream,Price: 550.0\n"
     ]
    }
   ],
   "source": [
    "print(sunita.display_item(\"face cream\"))"
   ]
  },
  {
   "cell_type": "code",
   "execution_count": 209,
   "id": "e1d59636-228d-4b99-a6a0-11687fd2219c",
   "metadata": {},
   "outputs": [],
   "source": [
    "#6) to create a class with attributes of length,width and heigth, calculate the area and perimeter of shape.\n",
    "\n"
   ]
  },
  {
   "cell_type": "code",
   "execution_count": 211,
   "id": "172e40d2-cc91-4bff-b687-ccd8cd900170",
   "metadata": {},
   "outputs": [],
   "source": [
    "class Rectangle():\n",
    "    def __init__(self, length, width):\n",
    "        self.length = length\n",
    "        self.width  = width\n",
    "\n",
    "    def rectangle_area(self):\n",
    "        return self.length*self.width\n",
    "    \n",
    "    def rectangle_perimeter(self):\n",
    "        return 2*(self.length+self.width)"
   ]
  },
  {
   "cell_type": "code",
   "execution_count": 212,
   "id": "ff69c042-8f0c-4434-8d9f-263a86692699",
   "metadata": {},
   "outputs": [
    {
     "name": "stdout",
     "output_type": "stream",
     "text": [
      "135\n"
     ]
    }
   ],
   "source": [
    "sunita = Rectangle(15, 9)\n",
    "print(sunita.rectangle_area())"
   ]
  },
  {
   "cell_type": "code",
   "execution_count": 213,
   "id": "27832b4e-7b92-477f-9014-3c42b8a4e8f1",
   "metadata": {},
   "outputs": [
    {
     "name": "stdout",
     "output_type": "stream",
     "text": [
      "48\n"
     ]
    }
   ],
   "source": [
    "print(sunita.rectangle_perimeter())"
   ]
  },
  {
   "cell_type": "code",
   "execution_count": 214,
   "id": "4d6fab37-5251-49f5-b324-c628f1c3b880",
   "metadata": {},
   "outputs": [],
   "source": [
    "#7) student management class with attributes like id, name, grades. calculate the average grades and display student details\n",
    "\n"
   ]
  },
  {
   "cell_type": "code",
   "execution_count": 283,
   "id": "4fa6dd09-b0b7-4e8f-92aa-62169fb38770",
   "metadata": {},
   "outputs": [],
   "source": [
    "class student():\n",
    "    \n",
    "    def __init__(self,ID, name, grades):\n",
    "        self.ID=ID\n",
    "        self.name=name\n",
    "        self.grades=grades\n",
    "        \n",
    "    def student_grade(num): \n",
    "        if(num > 90):\n",
    "            return 'A+'\n",
    "        elif(num >=80 and num <= 90):\n",
    "            return 'A'\n",
    "        elif(num >= 70 and num <= 80):\n",
    "            return 'B'\n",
    "        elif(num >= 60 and num <= 70):\n",
    "            return 'C'\n",
    "        elif(num >= 50 and num <= 40):\n",
    "            return 'D'\n",
    "        elif(num >= 40 and num <= 30):\n",
    "            return 'E'\n",
    "        elif(num <= 30):\n",
    "            return 'F'\n",
    "        \n",
    "        \n",
    "   "
   ]
  },
  {
   "cell_type": "code",
   "execution_count": 284,
   "id": "156d89fc-45ab-4ae8-8b37-48a51c8e5602",
   "metadata": {},
   "outputs": [],
   "source": [
    "sunita=student"
   ]
  },
  {
   "cell_type": "code",
   "execution_count": 285,
   "id": "4568c6ce-f751-474f-b0b1-26a623738533",
   "metadata": {},
   "outputs": [],
   "source": [
    "sunita.id= '1''2''3'"
   ]
  },
  {
   "cell_type": "code",
   "execution_count": 286,
   "id": "e6e55c45-5a99-4992-896f-2bf7948602ff",
   "metadata": {},
   "outputs": [],
   "source": [
    "sunita.name='shikha''sunita''rahul'"
   ]
  },
  {
   "cell_type": "code",
   "execution_count": 287,
   "id": "52b66332-1f5a-4219-93e5-a5cc8e763614",
   "metadata": {},
   "outputs": [
    {
     "data": {
      "text/plain": [
       "'B'"
      ]
     },
     "execution_count": 287,
     "metadata": {},
     "output_type": "execute_result"
    }
   ],
   "source": [
    "sunita.student_grade(76)"
   ]
  },
  {
   "cell_type": "code",
   "execution_count": null,
   "id": "566a6fe9-2d3e-4391-9609-5c4f1a382f14",
   "metadata": {},
   "outputs": [],
   "source": []
  }
 ],
 "metadata": {
  "kernelspec": {
   "display_name": "Python 3 (ipykernel)",
   "language": "python",
   "name": "python3"
  },
  "language_info": {
   "codemirror_mode": {
    "name": "ipython",
    "version": 3
   },
   "file_extension": ".py",
   "mimetype": "text/x-python",
   "name": "python",
   "nbconvert_exporter": "python",
   "pygments_lexer": "ipython3",
   "version": "3.10.6"
  }
 },
 "nbformat": 4,
 "nbformat_minor": 5
}
